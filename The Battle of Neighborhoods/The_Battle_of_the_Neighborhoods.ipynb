{
 "cells": [
  {
   "cell_type": "markdown",
   "metadata": {},
   "source": [
    "# The Battle of the Neighborhoods"
   ]
  },
  {
   "cell_type": "markdown",
   "metadata": {},
   "source": [
    "## Table of contents\n",
    "1. [Introduction](#introduction) </br>\n",
    "2. [Data](#data) </br>\n",
    "3. [Methodology](#methodology) </br>\n",
    "4. [Results](#results) </br>\n",
    "5. [Discussion](#discussion) </br>\n",
    "6. [Conclusion](#conclusion) </br>"
   ]
  },
  {
   "cell_type": "markdown",
   "metadata": {},
   "source": [
    "## 1. Introduction <a name=\"introduction\"></a>"
   ]
  },
  {
   "cell_type": "markdown",
   "metadata": {},
   "source": [
    "Taking a walk, we may notice that the shops in certain places change frequently. In this case, we can see that stores of the same type are already thriving. In order to prevent the catastrophe of missing some stores of same category, the theme of this project was selected. I am going to make a recommendation system for person who wants to be a shopkeeper. This machine learning model will help people to know what kind of category they should avoid."
   ]
  },
  {
   "cell_type": "markdown",
   "metadata": {},
   "source": [
    "## 2. Data <a name=\"data\"></a>"
   ]
  },
  {
   "cell_type": "markdown",
   "metadata": {},
   "source": [
    "We will use two kinds of data. First, the user's store's latitude and longitude are entered. Second, get store information near your store's location via foursquare api. I am going to set radius as 1000 meter, limit results to 100."
   ]
  },
  {
   "cell_type": "markdown",
   "metadata": {},
   "source": [
    "### 2.1. FIrst, get latitude and longtitude of the store."
   ]
  },
  {
   "cell_type": "code",
   "execution_count": 39,
   "metadata": {},
   "outputs": [
    {
     "name": "stdout",
     "output_type": "stream",
     "text": [
      "input your store's longtitude and latitude: 37.32459187310417, 127.8309422668323\n"
     ]
    }
   ],
   "source": [
    "lat, lng = input('input your store\\'s latitude and longtitude: ').split(',')"
   ]
  },
  {
   "cell_type": "markdown",
   "metadata": {},
   "source": [
    "### 2.2. Second, using foursquare api, get a dataframe of stores nearby"
   ]
  },
  {
   "cell_type": "code",
   "execution_count": 61,
   "metadata": {
    "scrolled": true
   },
   "outputs": [
    {
     "data": {
      "text/html": [
       "<div>\n",
       "<style scoped>\n",
       "    .dataframe tbody tr th:only-of-type {\n",
       "        vertical-align: middle;\n",
       "    }\n",
       "\n",
       "    .dataframe tbody tr th {\n",
       "        vertical-align: top;\n",
       "    }\n",
       "\n",
       "    .dataframe thead th {\n",
       "        text-align: right;\n",
       "    }\n",
       "</style>\n",
       "<table border=\"1\" class=\"dataframe\">\n",
       "  <thead>\n",
       "    <tr style=\"text-align: right;\">\n",
       "      <th></th>\n",
       "      <th>venue.location.lat</th>\n",
       "      <th>venue.location.lng</th>\n",
       "      <th>venue.categories</th>\n",
       "    </tr>\n",
       "  </thead>\n",
       "  <tbody>\n",
       "    <tr>\n",
       "      <th>0</th>\n",
       "      <td>Korean Restaurant</td>\n",
       "      <td>Korean Restaurant</td>\n",
       "      <td>Korean Restaurant</td>\n",
       "    </tr>\n",
       "    <tr>\n",
       "      <th>1</th>\n",
       "      <td>Korean Restaurant</td>\n",
       "      <td>Korean Restaurant</td>\n",
       "      <td>Korean Restaurant</td>\n",
       "    </tr>\n",
       "    <tr>\n",
       "      <th>2</th>\n",
       "      <td>Korean Restaurant</td>\n",
       "      <td>Korean Restaurant</td>\n",
       "      <td>Korean Restaurant</td>\n",
       "    </tr>\n",
       "    <tr>\n",
       "      <th>3</th>\n",
       "      <td>Korean Restaurant</td>\n",
       "      <td>Korean Restaurant</td>\n",
       "      <td>Korean Restaurant</td>\n",
       "    </tr>\n",
       "    <tr>\n",
       "      <th>4</th>\n",
       "      <td>Fast Food Restaurant</td>\n",
       "      <td>Fast Food Restaurant</td>\n",
       "      <td>Fast Food Restaurant</td>\n",
       "    </tr>\n",
       "    <tr>\n",
       "      <th>5</th>\n",
       "      <td>Hotel</td>\n",
       "      <td>Hotel</td>\n",
       "      <td>Hotel</td>\n",
       "    </tr>\n",
       "    <tr>\n",
       "      <th>6</th>\n",
       "      <td>Grocery Store</td>\n",
       "      <td>Grocery Store</td>\n",
       "      <td>Grocery Store</td>\n",
       "    </tr>\n",
       "    <tr>\n",
       "      <th>7</th>\n",
       "      <td>Fried Chicken Joint</td>\n",
       "      <td>Fried Chicken Joint</td>\n",
       "      <td>Fried Chicken Joint</td>\n",
       "    </tr>\n",
       "    <tr>\n",
       "      <th>8</th>\n",
       "      <td>Korean Restaurant</td>\n",
       "      <td>Korean Restaurant</td>\n",
       "      <td>Korean Restaurant</td>\n",
       "    </tr>\n",
       "    <tr>\n",
       "      <th>9</th>\n",
       "      <td>Korean Restaurant</td>\n",
       "      <td>Korean Restaurant</td>\n",
       "      <td>Korean Restaurant</td>\n",
       "    </tr>\n",
       "    <tr>\n",
       "      <th>10</th>\n",
       "      <td>Korean Restaurant</td>\n",
       "      <td>Korean Restaurant</td>\n",
       "      <td>Korean Restaurant</td>\n",
       "    </tr>\n",
       "  </tbody>\n",
       "</table>\n",
       "</div>"
      ],
      "text/plain": [
       "      venue.location.lat    venue.location.lng      venue.categories\n",
       "0      Korean Restaurant     Korean Restaurant     Korean Restaurant\n",
       "1      Korean Restaurant     Korean Restaurant     Korean Restaurant\n",
       "2      Korean Restaurant     Korean Restaurant     Korean Restaurant\n",
       "3      Korean Restaurant     Korean Restaurant     Korean Restaurant\n",
       "4   Fast Food Restaurant  Fast Food Restaurant  Fast Food Restaurant\n",
       "5                  Hotel                 Hotel                 Hotel\n",
       "6          Grocery Store         Grocery Store         Grocery Store\n",
       "7    Fried Chicken Joint   Fried Chicken Joint   Fried Chicken Joint\n",
       "8      Korean Restaurant     Korean Restaurant     Korean Restaurant\n",
       "9      Korean Restaurant     Korean Restaurant     Korean Restaurant\n",
       "10     Korean Restaurant     Korean Restaurant     Korean Restaurant"
      ]
     },
     "execution_count": 61,
     "metadata": {},
     "output_type": "execute_result"
    }
   ],
   "source": [
    "import pandas as pd\n",
    "import requests\n",
    "from pandas.io.json import json_normalize\n",
    "client_id='JSJ33I0OP3AEKUGF1EHCAZGGZA4CWP5XX012XRMQKSJJLWF4'\n",
    "client_secret='TPRXXHXBN3IHUGNWRXFYPPWPNFA3ZTT2VFVLFDKGY3CH1SVP'\n",
    "version='20180605'\n",
    "LIMIT = 100\n",
    "radius = 1000\n",
    "url = 'https://api.foursquare.com/v2/venues/explore?&client_id={}&client_secret={}&v={}&ll={},{}&radius={}&limit={}'.format(\n",
    "        client_id, \n",
    "        client_secret, \n",
    "        version, \n",
    "        lat, \n",
    "        lng, \n",
    "        radius, \n",
    "        LIMIT)\n",
    "df = pd.json_normalize(requests.get(url).json()[\"response\"]['groups'][0]['items'])\n",
    "df = df.loc[:,['venue.location.lat', 'venue.location.lng', 'venue.categories']]\n",
    "for i in range(len(df)):\n",
    "    b = dict(df['venue.categories'].iloc[i][0])\n",
    "    df.iloc[i] = b['name']\n",
    "df"
   ]
  },
  {
   "cell_type": "markdown",
   "metadata": {},
   "source": [
    "## 3. Methodology <a name=\"methodology\"></a>"
   ]
  },
  {
   "cell_type": "markdown",
   "metadata": {},
   "source": [
    "represents the main component of the report where you discuss and describe any exploratory data analysis that you did, any inferential statistical testing that you performed, if any, and what machine learnings were used and why"
   ]
  },
  {
   "cell_type": "code",
   "execution_count": null,
   "metadata": {},
   "outputs": [],
   "source": []
  },
  {
   "cell_type": "markdown",
   "metadata": {},
   "source": [
    "## 4. Results <a name=\"results\"></a>"
   ]
  },
  {
   "cell_type": "markdown",
   "metadata": {},
   "source": [
    "discuss the results"
   ]
  },
  {
   "cell_type": "code",
   "execution_count": null,
   "metadata": {},
   "outputs": [],
   "source": []
  },
  {
   "cell_type": "markdown",
   "metadata": {},
   "source": [
    "## 5. Discussion <a name=\"discussion\"></a>"
   ]
  },
  {
   "cell_type": "markdown",
   "metadata": {},
   "source": [
    "discuss any observations you noted and any recommendations you can make based on the results"
   ]
  },
  {
   "cell_type": "code",
   "execution_count": null,
   "metadata": {},
   "outputs": [],
   "source": []
  },
  {
   "cell_type": "markdown",
   "metadata": {},
   "source": [
    "## 6. Conclusion <a name=\"conclusion\"></a>"
   ]
  },
  {
   "cell_type": "markdown",
   "metadata": {},
   "source": [
    "conclude the report"
   ]
  },
  {
   "cell_type": "code",
   "execution_count": null,
   "metadata": {},
   "outputs": [],
   "source": []
  }
 ],
 "metadata": {
  "kernelspec": {
   "display_name": "Python 3",
   "language": "python",
   "name": "python3"
  },
  "language_info": {
   "codemirror_mode": {
    "name": "ipython",
    "version": 3
   },
   "file_extension": ".py",
   "mimetype": "text/x-python",
   "name": "python",
   "nbconvert_exporter": "python",
   "pygments_lexer": "ipython3",
   "version": "3.8.6"
  }
 },
 "nbformat": 4,
 "nbformat_minor": 4
}
