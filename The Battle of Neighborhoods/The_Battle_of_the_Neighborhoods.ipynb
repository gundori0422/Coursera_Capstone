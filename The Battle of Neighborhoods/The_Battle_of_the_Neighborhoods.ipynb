{
 "cells": [
  {
   "cell_type": "markdown",
   "metadata": {},
   "source": [
    "# The Battle of the Neighborhoods"
   ]
  },
  {
   "cell_type": "markdown",
   "metadata": {},
   "source": [
    "## 1. Introduction <a name=\"introduction\"></a>"
   ]
  },
  {
   "cell_type": "markdown",
   "metadata": {},
   "source": [
    "Taking a walk, we may notice that the shops in certain places change frequently. In this case, we can see that stores of the same type are already thriving. In order to prevent the catastrophe of missing some stores of same category, the theme of this project was selected. I am going to make a recommendation system for person who wants to be a shopkeeper. This machine learning model will help people to know what kind of category they should avoid."
   ]
  },
  {
   "cell_type": "markdown",
   "metadata": {},
   "source": [
    "## 2. Data <a name=\"data\"></a>"
   ]
  },
  {
   "cell_type": "markdown",
   "metadata": {},
   "source": [
    "We will use two kinds of data. First, the user's store's latitude and longitude are entered. Second, get store information near your store's location via foursquare api. I am going to set radius as 1000 meter, limit results to 100."
   ]
  },
  {
   "cell_type": "markdown",
   "metadata": {},
   "source": [
    "### 2.1. FIrst, get latitude and longitude of the store."
   ]
  },
  {
   "cell_type": "code",
   "execution_count": 1,
   "metadata": {},
   "outputs": [
    {
     "name": "stdin",
     "output_type": "stream",
     "text": [
      "input your store's latitude and longitude:  35.704713616784005, 128.45710541327045\n"
     ]
    }
   ],
   "source": [
    "lat, lng = input('input your store\\'s latitude and longitude: ').split(',')"
   ]
  },
  {
   "cell_type": "markdown",
   "metadata": {},
   "source": [
    "### 2.2. Second, using foursquare api, get a dataframe of stores nearby"
   ]
  },
  {
   "cell_type": "code",
   "execution_count": 2,
   "metadata": {
    "scrolled": true
   },
   "outputs": [
    {
     "data": {
      "text/html": [
       "<div>\n",
       "<style scoped>\n",
       "    .dataframe tbody tr th:only-of-type {\n",
       "        vertical-align: middle;\n",
       "    }\n",
       "\n",
       "    .dataframe tbody tr th {\n",
       "        vertical-align: top;\n",
       "    }\n",
       "\n",
       "    .dataframe thead th {\n",
       "        text-align: right;\n",
       "    }\n",
       "</style>\n",
       "<table border=\"1\" class=\"dataframe\">\n",
       "  <thead>\n",
       "    <tr style=\"text-align: right;\">\n",
       "      <th></th>\n",
       "      <th>referralId</th>\n",
       "      <th>reasons.count</th>\n",
       "      <th>reasons.items</th>\n",
       "      <th>venue.id</th>\n",
       "      <th>venue.name</th>\n",
       "      <th>venue.location.lat</th>\n",
       "      <th>venue.location.lng</th>\n",
       "      <th>venue.location.labeledLatLngs</th>\n",
       "      <th>venue.location.distance</th>\n",
       "      <th>venue.location.cc</th>\n",
       "      <th>venue.location.country</th>\n",
       "      <th>venue.location.formattedAddress</th>\n",
       "      <th>venue.categories</th>\n",
       "      <th>venue.photos.count</th>\n",
       "      <th>venue.photos.groups</th>\n",
       "      <th>venue.location.postalCode</th>\n",
       "      <th>venue.location.state</th>\n",
       "      <th>venue.location.address</th>\n",
       "      <th>venue.location.city</th>\n",
       "    </tr>\n",
       "  </thead>\n",
       "  <tbody>\n",
       "    <tr>\n",
       "      <th>0</th>\n",
       "      <td>e-0-56cfa6fbcd106959b101b613-0</td>\n",
       "      <td>0</td>\n",
       "      <td>[{'summary': 'This spot is popular', 'type': '...</td>\n",
       "      <td>56cfa6fbcd106959b101b613</td>\n",
       "      <td>DGIST 국제관</td>\n",
       "      <td>35.701447</td>\n",
       "      <td>128.460963</td>\n",
       "      <td>[{'label': 'display', 'lat': 35.701447, 'lng':...</td>\n",
       "      <td>503</td>\n",
       "      <td>KR</td>\n",
       "      <td>대한민국</td>\n",
       "      <td>[대한민국]</td>\n",
       "      <td>[{'id': '4bf58dd8d48988d1fa931735', 'name': 'H...</td>\n",
       "      <td>0</td>\n",
       "      <td>[]</td>\n",
       "      <td>NaN</td>\n",
       "      <td>NaN</td>\n",
       "      <td>NaN</td>\n",
       "      <td>NaN</td>\n",
       "    </tr>\n",
       "    <tr>\n",
       "      <th>1</th>\n",
       "      <td>e-0-56da8a82498eb40ced268d09-1</td>\n",
       "      <td>0</td>\n",
       "      <td>[{'summary': 'This spot is popular', 'type': '...</td>\n",
       "      <td>56da8a82498eb40ced268d09</td>\n",
       "      <td>EDIYA COFFEE 대구현풍로점</td>\n",
       "      <td>35.698584</td>\n",
       "      <td>128.460960</td>\n",
       "      <td>[{'label': 'display', 'lat': 35.698584, 'lng':...</td>\n",
       "      <td>766</td>\n",
       "      <td>KR</td>\n",
       "      <td>대한민국</td>\n",
       "      <td>[대한민국]</td>\n",
       "      <td>[{'id': '4bf58dd8d48988d16d941735', 'name': 'C...</td>\n",
       "      <td>0</td>\n",
       "      <td>[]</td>\n",
       "      <td>NaN</td>\n",
       "      <td>NaN</td>\n",
       "      <td>NaN</td>\n",
       "      <td>NaN</td>\n",
       "    </tr>\n",
       "    <tr>\n",
       "      <th>2</th>\n",
       "      <td>e-0-5b31f8e3180b910039916e01-2</td>\n",
       "      <td>0</td>\n",
       "      <td>[{'summary': 'This spot is popular', 'type': '...</td>\n",
       "      <td>5b31f8e3180b910039916e01</td>\n",
       "      <td>백세시대</td>\n",
       "      <td>35.701190</td>\n",
       "      <td>128.464612</td>\n",
       "      <td>[{'label': 'display', 'lat': 35.70119, 'lng': ...</td>\n",
       "      <td>783</td>\n",
       "      <td>KR</td>\n",
       "      <td>대한민국</td>\n",
       "      <td>[달성군, 대구광역시, 42989, 대한민국]</td>\n",
       "      <td>[{'id': '4bf58dd8d48988d113941735', 'name': 'K...</td>\n",
       "      <td>0</td>\n",
       "      <td>[]</td>\n",
       "      <td>42989</td>\n",
       "      <td>대구광역시</td>\n",
       "      <td>NaN</td>\n",
       "      <td>NaN</td>\n",
       "    </tr>\n",
       "    <tr>\n",
       "      <th>3</th>\n",
       "      <td>e-0-51f9d246498e7c3a4893fa2e-3</td>\n",
       "      <td>0</td>\n",
       "      <td>[{'summary': 'This spot is popular', 'type': '...</td>\n",
       "      <td>51f9d246498e7c3a4893fa2e</td>\n",
       "      <td>예家수제순대</td>\n",
       "      <td>35.698571</td>\n",
       "      <td>128.450325</td>\n",
       "      <td>[{'label': 'display', 'lat': 35.698571, 'lng':...</td>\n",
       "      <td>918</td>\n",
       "      <td>KR</td>\n",
       "      <td>대한민국</td>\n",
       "      <td>[달성군 현풍면 상리 577-19, 대구광역시, 대구광역시, 대한민국]</td>\n",
       "      <td>[{'id': '56aa371be4b08b9a8d5734e7', 'name': 'G...</td>\n",
       "      <td>0</td>\n",
       "      <td>[]</td>\n",
       "      <td>NaN</td>\n",
       "      <td>대구광역시</td>\n",
       "      <td>달성군 현풍면 상리 577-19</td>\n",
       "      <td>대구광역시</td>\n",
       "    </tr>\n",
       "    <tr>\n",
       "      <th>4</th>\n",
       "      <td>e-0-5a3f507962420b2b2cd7f865-4</td>\n",
       "      <td>0</td>\n",
       "      <td>[{'summary': 'This spot is popular', 'type': '...</td>\n",
       "      <td>5a3f507962420b2b2cd7f865</td>\n",
       "      <td>찻집하다(곶감하다)</td>\n",
       "      <td>35.700916</td>\n",
       "      <td>128.467030</td>\n",
       "      <td>[{'label': 'display', 'lat': 35.700916, 'lng':...</td>\n",
       "      <td>991</td>\n",
       "      <td>KR</td>\n",
       "      <td>대한민국</td>\n",
       "      <td>[달성군 유가면 쌍계리 630-5 1층, 대구광역시, 대구광역시, 711-880, ...</td>\n",
       "      <td>[{'id': '4bf58dd8d48988d16d941735', 'name': 'C...</td>\n",
       "      <td>0</td>\n",
       "      <td>[]</td>\n",
       "      <td>711-880</td>\n",
       "      <td>대구광역시</td>\n",
       "      <td>달성군 유가면 쌍계리 630-5 1층</td>\n",
       "      <td>대구광역시</td>\n",
       "    </tr>\n",
       "  </tbody>\n",
       "</table>\n",
       "</div>"
      ],
      "text/plain": [
       "                       referralId  reasons.count  \\\n",
       "0  e-0-56cfa6fbcd106959b101b613-0              0   \n",
       "1  e-0-56da8a82498eb40ced268d09-1              0   \n",
       "2  e-0-5b31f8e3180b910039916e01-2              0   \n",
       "3  e-0-51f9d246498e7c3a4893fa2e-3              0   \n",
       "4  e-0-5a3f507962420b2b2cd7f865-4              0   \n",
       "\n",
       "                                       reasons.items  \\\n",
       "0  [{'summary': 'This spot is popular', 'type': '...   \n",
       "1  [{'summary': 'This spot is popular', 'type': '...   \n",
       "2  [{'summary': 'This spot is popular', 'type': '...   \n",
       "3  [{'summary': 'This spot is popular', 'type': '...   \n",
       "4  [{'summary': 'This spot is popular', 'type': '...   \n",
       "\n",
       "                   venue.id           venue.name  venue.location.lat  \\\n",
       "0  56cfa6fbcd106959b101b613            DGIST 국제관           35.701447   \n",
       "1  56da8a82498eb40ced268d09  EDIYA COFFEE 대구현풍로점           35.698584   \n",
       "2  5b31f8e3180b910039916e01                 백세시대           35.701190   \n",
       "3  51f9d246498e7c3a4893fa2e               예家수제순대           35.698571   \n",
       "4  5a3f507962420b2b2cd7f865           찻집하다(곶감하다)           35.700916   \n",
       "\n",
       "   venue.location.lng                      venue.location.labeledLatLngs  \\\n",
       "0          128.460963  [{'label': 'display', 'lat': 35.701447, 'lng':...   \n",
       "1          128.460960  [{'label': 'display', 'lat': 35.698584, 'lng':...   \n",
       "2          128.464612  [{'label': 'display', 'lat': 35.70119, 'lng': ...   \n",
       "3          128.450325  [{'label': 'display', 'lat': 35.698571, 'lng':...   \n",
       "4          128.467030  [{'label': 'display', 'lat': 35.700916, 'lng':...   \n",
       "\n",
       "   venue.location.distance venue.location.cc venue.location.country  \\\n",
       "0                      503                KR                   대한민국   \n",
       "1                      766                KR                   대한민국   \n",
       "2                      783                KR                   대한민국   \n",
       "3                      918                KR                   대한민국   \n",
       "4                      991                KR                   대한민국   \n",
       "\n",
       "                     venue.location.formattedAddress  \\\n",
       "0                                             [대한민국]   \n",
       "1                                             [대한민국]   \n",
       "2                          [달성군, 대구광역시, 42989, 대한민국]   \n",
       "3            [달성군 현풍면 상리 577-19, 대구광역시, 대구광역시, 대한민국]   \n",
       "4  [달성군 유가면 쌍계리 630-5 1층, 대구광역시, 대구광역시, 711-880, ...   \n",
       "\n",
       "                                    venue.categories  venue.photos.count  \\\n",
       "0  [{'id': '4bf58dd8d48988d1fa931735', 'name': 'H...                   0   \n",
       "1  [{'id': '4bf58dd8d48988d16d941735', 'name': 'C...                   0   \n",
       "2  [{'id': '4bf58dd8d48988d113941735', 'name': 'K...                   0   \n",
       "3  [{'id': '56aa371be4b08b9a8d5734e7', 'name': 'G...                   0   \n",
       "4  [{'id': '4bf58dd8d48988d16d941735', 'name': 'C...                   0   \n",
       "\n",
       "  venue.photos.groups venue.location.postalCode venue.location.state  \\\n",
       "0                  []                       NaN                  NaN   \n",
       "1                  []                       NaN                  NaN   \n",
       "2                  []                     42989                대구광역시   \n",
       "3                  []                       NaN                대구광역시   \n",
       "4                  []                   711-880                대구광역시   \n",
       "\n",
       "  venue.location.address venue.location.city  \n",
       "0                    NaN                 NaN  \n",
       "1                    NaN                 NaN  \n",
       "2                    NaN                 NaN  \n",
       "3      달성군 현풍면 상리 577-19               대구광역시  \n",
       "4   달성군 유가면 쌍계리 630-5 1층               대구광역시  "
      ]
     },
     "execution_count": 2,
     "metadata": {},
     "output_type": "execute_result"
    }
   ],
   "source": [
    "import pandas as pd\n",
    "import requests\n",
    "from pandas.io.json import json_normalize\n",
    "client_id='JSJ33I0OP3AEKUGF1EHCAZGGZA4CWP5XX012XRMQKSJJLWF4'\n",
    "client_secret='TPRXXHXBN3IHUGNWRXFYPPWPNFA3ZTT2VFVLFDKGY3CH1SVP'\n",
    "version='20180605'\n",
    "LIMIT = 100\n",
    "radius = 1000\n",
    "url = 'https://api.foursquare.com/v2/venues/explore?&client_id={}&client_secret={}&v={}&ll={},{}&radius={}&limit={}'.format(\n",
    "        client_id, \n",
    "        client_secret, \n",
    "        version, \n",
    "        lat, \n",
    "        lng, \n",
    "        radius, \n",
    "        LIMIT)\n",
    "df = pd.json_normalize(requests.get(url).json()[\"response\"]['groups'][0]['items'])\n",
    "df.head()"
   ]
  },
  {
   "cell_type": "markdown",
   "metadata": {},
   "source": [
    "## 3. Methodology <a name=\"methodology\"></a>"
   ]
  },
  {
   "cell_type": "markdown",
   "metadata": {},
   "source": [
    "### 3.1. Preprocess\n",
    "Sice algorithm only needs location and category, I left latitude, longitude and category data and eraised rest of dataframe."
   ]
  },
  {
   "cell_type": "code",
   "execution_count": 3,
   "metadata": {},
   "outputs": [
    {
     "data": {
      "text/html": [
       "<div>\n",
       "<style scoped>\n",
       "    .dataframe tbody tr th:only-of-type {\n",
       "        vertical-align: middle;\n",
       "    }\n",
       "\n",
       "    .dataframe tbody tr th {\n",
       "        vertical-align: top;\n",
       "    }\n",
       "\n",
       "    .dataframe thead th {\n",
       "        text-align: right;\n",
       "    }\n",
       "</style>\n",
       "<table border=\"1\" class=\"dataframe\">\n",
       "  <thead>\n",
       "    <tr style=\"text-align: right;\">\n",
       "      <th></th>\n",
       "      <th>venue.location.lat</th>\n",
       "      <th>venue.location.lng</th>\n",
       "      <th>venue.categories</th>\n",
       "    </tr>\n",
       "  </thead>\n",
       "  <tbody>\n",
       "    <tr>\n",
       "      <th>0</th>\n",
       "      <td>35.701447</td>\n",
       "      <td>128.460963</td>\n",
       "      <td>Hotel</td>\n",
       "    </tr>\n",
       "    <tr>\n",
       "      <th>1</th>\n",
       "      <td>35.698584</td>\n",
       "      <td>128.460960</td>\n",
       "      <td>Café</td>\n",
       "    </tr>\n",
       "    <tr>\n",
       "      <th>2</th>\n",
       "      <td>35.701190</td>\n",
       "      <td>128.464612</td>\n",
       "      <td>Korean Restaurant</td>\n",
       "    </tr>\n",
       "    <tr>\n",
       "      <th>3</th>\n",
       "      <td>35.698571</td>\n",
       "      <td>128.450325</td>\n",
       "      <td>Gukbap Restaurant</td>\n",
       "    </tr>\n",
       "    <tr>\n",
       "      <th>4</th>\n",
       "      <td>35.700916</td>\n",
       "      <td>128.467030</td>\n",
       "      <td>Café</td>\n",
       "    </tr>\n",
       "  </tbody>\n",
       "</table>\n",
       "</div>"
      ],
      "text/plain": [
       "   venue.location.lat  venue.location.lng   venue.categories\n",
       "0           35.701447          128.460963              Hotel\n",
       "1           35.698584          128.460960               Café\n",
       "2           35.701190          128.464612  Korean Restaurant\n",
       "3           35.698571          128.450325  Gukbap Restaurant\n",
       "4           35.700916          128.467030               Café"
      ]
     },
     "execution_count": 3,
     "metadata": {},
     "output_type": "execute_result"
    }
   ],
   "source": [
    "df = df.loc[:,['venue.location.lat', 'venue.location.lng', 'venue.categories']]\n",
    "for i in range(len(df)):\n",
    "    b = dict(df['venue.categories'].iloc[i][0])\n",
    "    df.loc[i, ['venue.categories']] = b['name']\n",
    "df.head()"
   ]
  },
  {
   "cell_type": "markdown",
   "metadata": {},
   "source": [
    "### 3.2. Machine Learning\n",
    "My goal was to give a list about coategories of store a person should avoid. So i used a k-nearest neighbors algorithm. First, I made a set of categories so I can get max number of K. K starting from 1 until length of set made right before, algorithm will determine what category will that place will fit in. Being classified in a specific category means that even if there is a store in that category, it does not have any advantage."
   ]
  },
  {
   "cell_type": "code",
   "execution_count": 4,
   "metadata": {},
   "outputs": [],
   "source": [
    "# get a set of categories\n",
    "cat = set(df['venue.categories'])"
   ]
  },
  {
   "cell_type": "code",
   "execution_count": 5,
   "metadata": {},
   "outputs": [],
   "source": [
    "# split dataframe to use as dataset\n",
    "X=[]\n",
    "y=[]\n",
    "for i in range(len(df)):\n",
    "    X.append([float(df['venue.location.lat'].iloc[i]), float(df['venue.location.lng'].iloc[i])])\n",
    "    y.append(df['venue.categories'].iloc[i])"
   ]
  },
  {
   "cell_type": "code",
   "execution_count": 6,
   "metadata": {},
   "outputs": [
    {
     "name": "stdout",
     "output_type": "stream",
     "text": [
      "[[35.701447, 128.460963], [35.698584, 128.46096], [35.70119, 128.464612]]\n",
      "['Hotel', 'Café', 'Korean Restaurant']\n"
     ]
    }
   ],
   "source": [
    "print(X[:3])\n",
    "print(y[:3])"
   ]
  },
  {
   "cell_type": "code",
   "execution_count": 7,
   "metadata": {},
   "outputs": [],
   "source": [
    "# train and get list of categories to avoid\n",
    "from sklearn.neighbors import KNeighborsClassifier\n",
    "ans = set()\n",
    "\n",
    "for i in range(1, len(cat)):\n",
    "    neigh = KNeighborsClassifier(n_neighbors=i)\n",
    "    neigh.fit(X, y)\n",
    "    ans.add(neigh.predict([list((float(lat), float(lng)))])[0])\n",
    "    del(neigh)"
   ]
  },
  {
   "cell_type": "code",
   "execution_count": 8,
   "metadata": {},
   "outputs": [
    {
     "data": {
      "text/plain": [
       "{'Café', 'Hotel'}"
      ]
     },
     "execution_count": 8,
     "metadata": {},
     "output_type": "execute_result"
    }
   ],
   "source": [
    "ans"
   ]
  },
  {
   "cell_type": "markdown",
   "metadata": {},
   "source": [
    "## 4. Results <a name=\"results\"></a>"
   ]
  },
  {
   "cell_type": "markdown",
   "metadata": {},
   "source": [
    "As cell right above, by machine learning user could get list of categories that he/she should avoid."
   ]
  },
  {
   "cell_type": "markdown",
   "metadata": {},
   "source": [
    "## 5. Discussion <a name=\"discussion\"></a>"
   ]
  },
  {
   "cell_type": "markdown",
   "metadata": {},
   "source": [
    "So user who was planning to open the shop at (35.704713616784005, 128.45710541327045), should avoid Café and Hotel."
   ]
  },
  {
   "cell_type": "markdown",
   "metadata": {},
   "source": [
    "## 6. Conclusion <a name=\"conclusion\"></a>"
   ]
  },
  {
   "cell_type": "markdown",
   "metadata": {},
   "source": [
    "I only used KNN and didn't changed any hyperparameter except number of neighbors. If there were datasets that shows such as category of the shop, term of the shop survived, I think it would be able to make a model to predict the income of shop at specific place and shop of specific category."
   ]
  }
 ],
 "metadata": {
  "kernelspec": {
   "display_name": "Python 3",
   "language": "python",
   "name": "python3"
  },
  "language_info": {
   "codemirror_mode": {
    "name": "ipython",
    "version": 3
   },
   "file_extension": ".py",
   "mimetype": "text/x-python",
   "name": "python",
   "nbconvert_exporter": "python",
   "pygments_lexer": "ipython3",
   "version": "3.8.6"
  }
 },
 "nbformat": 4,
 "nbformat_minor": 4
}
